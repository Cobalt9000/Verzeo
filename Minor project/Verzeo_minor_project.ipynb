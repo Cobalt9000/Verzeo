{
 "cells": [
  {
   "cell_type": "markdown",
   "id": "4d8a8196",
   "metadata": {},
   "source": [
    "# Machine Learning November Minor Project"
   ]
  },
  {
   "cell_type": "markdown",
   "id": "3f3161a3",
   "metadata": {},
   "source": [
    "###                                                                                                     Done By Suprith Shettigar"
   ]
  },
  {
   "cell_type": "markdown",
   "id": "ed3ef66d",
   "metadata": {},
   "source": [
    "## create a classification model to predict the price range of the mobile based on the certian specification."
   ]
  },
  {
   "cell_type": "markdown",
   "id": "a40e8170",
   "metadata": {},
   "source": [
    "### importing all the required libraries:"
   ]
  },
  {
   "cell_type": "code",
   "execution_count": 82,
   "id": "02190f44",
   "metadata": {},
   "outputs": [],
   "source": [
    "import pandas as pd\n",
    "import numpy as np\n",
    "import matplotlib.pyplot as plt\n",
    "import seaborn as sns\n",
    "\n",
    "import warnings\n",
    "warnings.filterwarnings(\"ignore\")"
   ]
  },
  {
   "cell_type": "code",
   "execution_count": 83,
   "id": "05b227c6",
   "metadata": {},
   "outputs": [
    {
     "data": {
      "text/html": [
       "<div>\n",
       "<style scoped>\n",
       "    .dataframe tbody tr th:only-of-type {\n",
       "        vertical-align: middle;\n",
       "    }\n",
       "\n",
       "    .dataframe tbody tr th {\n",
       "        vertical-align: top;\n",
       "    }\n",
       "\n",
       "    .dataframe thead th {\n",
       "        text-align: right;\n",
       "    }\n",
       "</style>\n",
       "<table border=\"1\" class=\"dataframe\">\n",
       "  <thead>\n",
       "    <tr style=\"text-align: right;\">\n",
       "      <th></th>\n",
       "      <th>battery_power</th>\n",
       "      <th>blue</th>\n",
       "      <th>clock_speed</th>\n",
       "      <th>dual_sim</th>\n",
       "      <th>fc</th>\n",
       "      <th>four_g</th>\n",
       "      <th>int_memory</th>\n",
       "      <th>m_dep</th>\n",
       "      <th>mobile_wt</th>\n",
       "      <th>n_cores</th>\n",
       "      <th>...</th>\n",
       "      <th>px_height</th>\n",
       "      <th>px_width</th>\n",
       "      <th>ram</th>\n",
       "      <th>sc_h</th>\n",
       "      <th>sc_w</th>\n",
       "      <th>talk_time</th>\n",
       "      <th>three_g</th>\n",
       "      <th>touch_screen</th>\n",
       "      <th>wifi</th>\n",
       "      <th>price_range</th>\n",
       "    </tr>\n",
       "  </thead>\n",
       "  <tbody>\n",
       "    <tr>\n",
       "      <th>0</th>\n",
       "      <td>842</td>\n",
       "      <td>0</td>\n",
       "      <td>2.2</td>\n",
       "      <td>0</td>\n",
       "      <td>1</td>\n",
       "      <td>0</td>\n",
       "      <td>7</td>\n",
       "      <td>0.6</td>\n",
       "      <td>188</td>\n",
       "      <td>2</td>\n",
       "      <td>...</td>\n",
       "      <td>20</td>\n",
       "      <td>756</td>\n",
       "      <td>2549</td>\n",
       "      <td>9</td>\n",
       "      <td>7</td>\n",
       "      <td>19</td>\n",
       "      <td>0</td>\n",
       "      <td>0</td>\n",
       "      <td>1</td>\n",
       "      <td>1</td>\n",
       "    </tr>\n",
       "    <tr>\n",
       "      <th>1</th>\n",
       "      <td>1021</td>\n",
       "      <td>1</td>\n",
       "      <td>0.5</td>\n",
       "      <td>1</td>\n",
       "      <td>0</td>\n",
       "      <td>1</td>\n",
       "      <td>53</td>\n",
       "      <td>0.7</td>\n",
       "      <td>136</td>\n",
       "      <td>3</td>\n",
       "      <td>...</td>\n",
       "      <td>905</td>\n",
       "      <td>1988</td>\n",
       "      <td>2631</td>\n",
       "      <td>17</td>\n",
       "      <td>3</td>\n",
       "      <td>7</td>\n",
       "      <td>1</td>\n",
       "      <td>1</td>\n",
       "      <td>0</td>\n",
       "      <td>2</td>\n",
       "    </tr>\n",
       "    <tr>\n",
       "      <th>2</th>\n",
       "      <td>563</td>\n",
       "      <td>1</td>\n",
       "      <td>0.5</td>\n",
       "      <td>1</td>\n",
       "      <td>2</td>\n",
       "      <td>1</td>\n",
       "      <td>41</td>\n",
       "      <td>0.9</td>\n",
       "      <td>145</td>\n",
       "      <td>5</td>\n",
       "      <td>...</td>\n",
       "      <td>1263</td>\n",
       "      <td>1716</td>\n",
       "      <td>2603</td>\n",
       "      <td>11</td>\n",
       "      <td>2</td>\n",
       "      <td>9</td>\n",
       "      <td>1</td>\n",
       "      <td>1</td>\n",
       "      <td>0</td>\n",
       "      <td>2</td>\n",
       "    </tr>\n",
       "    <tr>\n",
       "      <th>3</th>\n",
       "      <td>615</td>\n",
       "      <td>1</td>\n",
       "      <td>2.5</td>\n",
       "      <td>0</td>\n",
       "      <td>0</td>\n",
       "      <td>0</td>\n",
       "      <td>10</td>\n",
       "      <td>0.8</td>\n",
       "      <td>131</td>\n",
       "      <td>6</td>\n",
       "      <td>...</td>\n",
       "      <td>1216</td>\n",
       "      <td>1786</td>\n",
       "      <td>2769</td>\n",
       "      <td>16</td>\n",
       "      <td>8</td>\n",
       "      <td>11</td>\n",
       "      <td>1</td>\n",
       "      <td>0</td>\n",
       "      <td>0</td>\n",
       "      <td>2</td>\n",
       "    </tr>\n",
       "    <tr>\n",
       "      <th>4</th>\n",
       "      <td>1821</td>\n",
       "      <td>1</td>\n",
       "      <td>1.2</td>\n",
       "      <td>0</td>\n",
       "      <td>13</td>\n",
       "      <td>1</td>\n",
       "      <td>44</td>\n",
       "      <td>0.6</td>\n",
       "      <td>141</td>\n",
       "      <td>2</td>\n",
       "      <td>...</td>\n",
       "      <td>1208</td>\n",
       "      <td>1212</td>\n",
       "      <td>1411</td>\n",
       "      <td>8</td>\n",
       "      <td>2</td>\n",
       "      <td>15</td>\n",
       "      <td>1</td>\n",
       "      <td>1</td>\n",
       "      <td>0</td>\n",
       "      <td>1</td>\n",
       "    </tr>\n",
       "  </tbody>\n",
       "</table>\n",
       "<p>5 rows × 21 columns</p>\n",
       "</div>"
      ],
      "text/plain": [
       "   battery_power  blue  clock_speed  dual_sim  fc  four_g  int_memory  m_dep  \\\n",
       "0            842     0          2.2         0   1       0           7    0.6   \n",
       "1           1021     1          0.5         1   0       1          53    0.7   \n",
       "2            563     1          0.5         1   2       1          41    0.9   \n",
       "3            615     1          2.5         0   0       0          10    0.8   \n",
       "4           1821     1          1.2         0  13       1          44    0.6   \n",
       "\n",
       "   mobile_wt  n_cores  ...  px_height  px_width   ram  sc_h  sc_w  talk_time  \\\n",
       "0        188        2  ...         20       756  2549     9     7         19   \n",
       "1        136        3  ...        905      1988  2631    17     3          7   \n",
       "2        145        5  ...       1263      1716  2603    11     2          9   \n",
       "3        131        6  ...       1216      1786  2769    16     8         11   \n",
       "4        141        2  ...       1208      1212  1411     8     2         15   \n",
       "\n",
       "   three_g  touch_screen  wifi  price_range  \n",
       "0        0             0     1            1  \n",
       "1        1             1     0            2  \n",
       "2        1             1     0            2  \n",
       "3        1             0     0            2  \n",
       "4        1             1     0            1  \n",
       "\n",
       "[5 rows x 21 columns]"
      ]
     },
     "execution_count": 83,
     "metadata": {},
     "output_type": "execute_result"
    }
   ],
   "source": [
    "df = pd.read_excel('mobile_price_range_data.xlsx')\n",
    "df.head()"
   ]
  },
  {
   "cell_type": "code",
   "execution_count": 84,
   "id": "09b51b7e",
   "metadata": {},
   "outputs": [
    {
     "data": {
      "text/html": [
       "<div>\n",
       "<style scoped>\n",
       "    .dataframe tbody tr th:only-of-type {\n",
       "        vertical-align: middle;\n",
       "    }\n",
       "\n",
       "    .dataframe tbody tr th {\n",
       "        vertical-align: top;\n",
       "    }\n",
       "\n",
       "    .dataframe thead th {\n",
       "        text-align: right;\n",
       "    }\n",
       "</style>\n",
       "<table border=\"1\" class=\"dataframe\">\n",
       "  <thead>\n",
       "    <tr style=\"text-align: right;\">\n",
       "      <th></th>\n",
       "      <th>battery_power</th>\n",
       "      <th>blue</th>\n",
       "      <th>clock_speed</th>\n",
       "      <th>dual_sim</th>\n",
       "      <th>fc</th>\n",
       "      <th>four_g</th>\n",
       "      <th>int_memory</th>\n",
       "      <th>m_dep</th>\n",
       "      <th>mobile_wt</th>\n",
       "      <th>n_cores</th>\n",
       "      <th>...</th>\n",
       "      <th>px_height</th>\n",
       "      <th>px_width</th>\n",
       "      <th>ram</th>\n",
       "      <th>sc_h</th>\n",
       "      <th>sc_w</th>\n",
       "      <th>talk_time</th>\n",
       "      <th>three_g</th>\n",
       "      <th>touch_screen</th>\n",
       "      <th>wifi</th>\n",
       "      <th>price_range</th>\n",
       "    </tr>\n",
       "  </thead>\n",
       "  <tbody>\n",
       "    <tr>\n",
       "      <th>1995</th>\n",
       "      <td>794</td>\n",
       "      <td>1</td>\n",
       "      <td>0.5</td>\n",
       "      <td>1</td>\n",
       "      <td>0</td>\n",
       "      <td>1</td>\n",
       "      <td>2</td>\n",
       "      <td>0.8</td>\n",
       "      <td>106</td>\n",
       "      <td>6</td>\n",
       "      <td>...</td>\n",
       "      <td>1222</td>\n",
       "      <td>1890</td>\n",
       "      <td>668</td>\n",
       "      <td>13</td>\n",
       "      <td>4</td>\n",
       "      <td>19</td>\n",
       "      <td>1</td>\n",
       "      <td>1</td>\n",
       "      <td>0</td>\n",
       "      <td>0</td>\n",
       "    </tr>\n",
       "    <tr>\n",
       "      <th>1996</th>\n",
       "      <td>1965</td>\n",
       "      <td>1</td>\n",
       "      <td>2.6</td>\n",
       "      <td>1</td>\n",
       "      <td>0</td>\n",
       "      <td>0</td>\n",
       "      <td>39</td>\n",
       "      <td>0.2</td>\n",
       "      <td>187</td>\n",
       "      <td>4</td>\n",
       "      <td>...</td>\n",
       "      <td>915</td>\n",
       "      <td>1965</td>\n",
       "      <td>2032</td>\n",
       "      <td>11</td>\n",
       "      <td>10</td>\n",
       "      <td>16</td>\n",
       "      <td>1</td>\n",
       "      <td>1</td>\n",
       "      <td>1</td>\n",
       "      <td>2</td>\n",
       "    </tr>\n",
       "    <tr>\n",
       "      <th>1997</th>\n",
       "      <td>1911</td>\n",
       "      <td>0</td>\n",
       "      <td>0.9</td>\n",
       "      <td>1</td>\n",
       "      <td>1</td>\n",
       "      <td>1</td>\n",
       "      <td>36</td>\n",
       "      <td>0.7</td>\n",
       "      <td>108</td>\n",
       "      <td>8</td>\n",
       "      <td>...</td>\n",
       "      <td>868</td>\n",
       "      <td>1632</td>\n",
       "      <td>3057</td>\n",
       "      <td>9</td>\n",
       "      <td>1</td>\n",
       "      <td>5</td>\n",
       "      <td>1</td>\n",
       "      <td>1</td>\n",
       "      <td>0</td>\n",
       "      <td>3</td>\n",
       "    </tr>\n",
       "    <tr>\n",
       "      <th>1998</th>\n",
       "      <td>1512</td>\n",
       "      <td>0</td>\n",
       "      <td>0.9</td>\n",
       "      <td>0</td>\n",
       "      <td>4</td>\n",
       "      <td>1</td>\n",
       "      <td>46</td>\n",
       "      <td>0.1</td>\n",
       "      <td>145</td>\n",
       "      <td>5</td>\n",
       "      <td>...</td>\n",
       "      <td>336</td>\n",
       "      <td>670</td>\n",
       "      <td>869</td>\n",
       "      <td>18</td>\n",
       "      <td>10</td>\n",
       "      <td>19</td>\n",
       "      <td>1</td>\n",
       "      <td>1</td>\n",
       "      <td>1</td>\n",
       "      <td>0</td>\n",
       "    </tr>\n",
       "    <tr>\n",
       "      <th>1999</th>\n",
       "      <td>510</td>\n",
       "      <td>1</td>\n",
       "      <td>2.0</td>\n",
       "      <td>1</td>\n",
       "      <td>5</td>\n",
       "      <td>1</td>\n",
       "      <td>45</td>\n",
       "      <td>0.9</td>\n",
       "      <td>168</td>\n",
       "      <td>6</td>\n",
       "      <td>...</td>\n",
       "      <td>483</td>\n",
       "      <td>754</td>\n",
       "      <td>3919</td>\n",
       "      <td>19</td>\n",
       "      <td>4</td>\n",
       "      <td>2</td>\n",
       "      <td>1</td>\n",
       "      <td>1</td>\n",
       "      <td>1</td>\n",
       "      <td>3</td>\n",
       "    </tr>\n",
       "  </tbody>\n",
       "</table>\n",
       "<p>5 rows × 21 columns</p>\n",
       "</div>"
      ],
      "text/plain": [
       "      battery_power  blue  clock_speed  dual_sim  fc  four_g  int_memory  \\\n",
       "1995            794     1          0.5         1   0       1           2   \n",
       "1996           1965     1          2.6         1   0       0          39   \n",
       "1997           1911     0          0.9         1   1       1          36   \n",
       "1998           1512     0          0.9         0   4       1          46   \n",
       "1999            510     1          2.0         1   5       1          45   \n",
       "\n",
       "      m_dep  mobile_wt  n_cores  ...  px_height  px_width   ram  sc_h  sc_w  \\\n",
       "1995    0.8        106        6  ...       1222      1890   668    13     4   \n",
       "1996    0.2        187        4  ...        915      1965  2032    11    10   \n",
       "1997    0.7        108        8  ...        868      1632  3057     9     1   \n",
       "1998    0.1        145        5  ...        336       670   869    18    10   \n",
       "1999    0.9        168        6  ...        483       754  3919    19     4   \n",
       "\n",
       "      talk_time  three_g  touch_screen  wifi  price_range  \n",
       "1995         19        1             1     0            0  \n",
       "1996         16        1             1     1            2  \n",
       "1997          5        1             1     0            3  \n",
       "1998         19        1             1     1            0  \n",
       "1999          2        1             1     1            3  \n",
       "\n",
       "[5 rows x 21 columns]"
      ]
     },
     "execution_count": 84,
     "metadata": {},
     "output_type": "execute_result"
    }
   ],
   "source": [
    "df.tail()"
   ]
  },
  {
   "cell_type": "code",
   "execution_count": 85,
   "id": "021a0ef3",
   "metadata": {},
   "outputs": [
    {
     "data": {
      "text/plain": [
       "(2000, 21)"
      ]
     },
     "execution_count": 85,
     "metadata": {},
     "output_type": "execute_result"
    }
   ],
   "source": [
    "df.shape"
   ]
  },
  {
   "cell_type": "markdown",
   "id": "10349c04",
   "metadata": {},
   "source": [
    "### Target variable"
   ]
  },
  {
   "cell_type": "code",
   "execution_count": 86,
   "id": "b51575c2",
   "metadata": {},
   "outputs": [
    {
     "data": {
      "text/plain": [
       "1    500\n",
       "2    500\n",
       "3    500\n",
       "0    500\n",
       "Name: price_range, dtype: int64"
      ]
     },
     "execution_count": 86,
     "metadata": {},
     "output_type": "execute_result"
    }
   ],
   "source": [
    "df['price_range'].value_counts()"
   ]
  },
  {
   "cell_type": "markdown",
   "id": "775574cc",
   "metadata": {},
   "source": [
    "### removing null values in the dataset. "
   ]
  },
  {
   "cell_type": "code",
   "execution_count": 87,
   "id": "96cfafc5",
   "metadata": {},
   "outputs": [
    {
     "data": {
      "text/plain": [
       "battery_power    0\n",
       "blue             0\n",
       "clock_speed      0\n",
       "dual_sim         0\n",
       "fc               0\n",
       "four_g           0\n",
       "int_memory       0\n",
       "m_dep            0\n",
       "mobile_wt        0\n",
       "n_cores          0\n",
       "pc               0\n",
       "px_height        0\n",
       "px_width         0\n",
       "ram              0\n",
       "sc_h             0\n",
       "sc_w             0\n",
       "talk_time        0\n",
       "three_g          0\n",
       "touch_screen     0\n",
       "wifi             0\n",
       "price_range      0\n",
       "dtype: int64"
      ]
     },
     "execution_count": 87,
     "metadata": {},
     "output_type": "execute_result"
    }
   ],
   "source": [
    "df.isnull().sum()"
   ]
  },
  {
   "cell_type": "markdown",
   "id": "010d9fb0",
   "metadata": {},
   "source": [
    "### handling dupilcate values in the given dataset: "
   ]
  },
  {
   "cell_type": "code",
   "execution_count": 88,
   "id": "76ff848f",
   "metadata": {},
   "outputs": [
    {
     "data": {
      "text/plain": [
       "0"
      ]
     },
     "execution_count": 88,
     "metadata": {},
     "output_type": "execute_result"
    }
   ],
   "source": [
    "df.duplicated().sum()"
   ]
  },
  {
   "cell_type": "code",
   "execution_count": 89,
   "id": "04262fe4",
   "metadata": {},
   "outputs": [
    {
     "data": {
      "text/plain": [
       "0"
      ]
     },
     "execution_count": 89,
     "metadata": {},
     "output_type": "execute_result"
    }
   ],
   "source": [
    "df.drop_duplicates(inplace=True)\n",
    "df.duplicated().sum()"
   ]
  },
  {
   "cell_type": "markdown",
   "id": "c09842c7",
   "metadata": {},
   "source": [
    "### checking datatypes in the given dataset"
   ]
  },
  {
   "cell_type": "code",
   "execution_count": 90,
   "id": "d03b11c7",
   "metadata": {},
   "outputs": [
    {
     "data": {
      "text/plain": [
       "battery_power      int64\n",
       "blue               int64\n",
       "clock_speed      float64\n",
       "dual_sim           int64\n",
       "fc                 int64\n",
       "four_g             int64\n",
       "int_memory         int64\n",
       "m_dep            float64\n",
       "mobile_wt          int64\n",
       "n_cores            int64\n",
       "pc                 int64\n",
       "px_height          int64\n",
       "px_width           int64\n",
       "ram                int64\n",
       "sc_h               int64\n",
       "sc_w               int64\n",
       "talk_time          int64\n",
       "three_g            int64\n",
       "touch_screen       int64\n",
       "wifi               int64\n",
       "price_range        int64\n",
       "dtype: object"
      ]
     },
     "execution_count": 90,
     "metadata": {},
     "output_type": "execute_result"
    }
   ],
   "source": [
    "df.dtypes"
   ]
  },
  {
   "cell_type": "markdown",
   "id": "7a2d1d60",
   "metadata": {},
   "source": [
    "#### Selecting dependents(x) and independents(y) variables :"
   ]
  },
  {
   "cell_type": "code",
   "execution_count": 91,
   "id": "ee52588d",
   "metadata": {},
   "outputs": [
    {
     "name": "stdout",
     "output_type": "stream",
     "text": [
      "<class 'pandas.core.frame.DataFrame'>\n",
      "<class 'pandas.core.series.Series'>\n",
      "(2000, 20)\n",
      "(2000,)\n"
     ]
    }
   ],
   "source": [
    "x = df.drop('price_range',axis=1)\n",
    "y = df['price_range']\n",
    "print(type(x))\n",
    "print(type(y))\n",
    "print(x.shape)\n",
    "print(y.shape)\n",
    "#x_train,y_train i.e x and y (train)"
   ]
  },
  {
   "cell_type": "markdown",
   "id": "cbe59c34",
   "metadata": {},
   "source": [
    "### splitting data into training and test data"
   ]
  },
  {
   "cell_type": "code",
   "execution_count": 92,
   "id": "17b93e44",
   "metadata": {},
   "outputs": [],
   "source": [
    "from sklearn.model_selection import train_test_split"
   ]
  },
  {
   "cell_type": "code",
   "execution_count": 93,
   "id": "469442d0",
   "metadata": {},
   "outputs": [
    {
     "name": "stdout",
     "output_type": "stream",
     "text": [
      "(1500, 20)\n",
      "(1500,)\n",
      "(500, 20)\n",
      "(500,)\n"
     ]
    }
   ],
   "source": [
    "x_train,x_test,y_train,y_test = train_test_split(x,y,test_size=0.25,random_state=42)\n",
    "print(x_train.shape)\n",
    "print(y_train.shape)\n",
    "print(x_test.shape)\n",
    "print(y_test.shape)"
   ]
  },
  {
   "cell_type": "markdown",
   "id": "6d8f4538",
   "metadata": {},
   "source": [
    "## confusion matrix"
   ]
  },
  {
   "cell_type": "code",
   "execution_count": 94,
   "id": "21c3279a",
   "metadata": {},
   "outputs": [],
   "source": [
    "from sklearn.metrics import confusion_matrix,classification_report"
   ]
  },
  {
   "cell_type": "code",
   "execution_count": 95,
   "id": "4758b827",
   "metadata": {},
   "outputs": [],
   "source": [
    "def eval_model(y_test,ypred):\n",
    "    cm=confusion_matrix(y_test,ypred)\n",
    "    print(\"confusion matrix:\")\n",
    "    print(cm)\n",
    "    print(\"\\n\\n\")\n",
    "    print(\"classification report:\")\n",
    "    print(classification_report(y_test,ypred))\n",
    "\n",
    "def mscore(model):\n",
    "    print('Training score',model.score(x_train,y_train))\n",
    "    print('Testing score',model.score(x_test,y_test))"
   ]
  },
  {
   "cell_type": "markdown",
   "id": "15c5c8ee",
   "metadata": {},
   "source": [
    "## Applying all the following models on training dataset to generate the predicted value for the test dataset"
   ]
  },
  {
   "cell_type": "markdown",
   "id": "021cf559",
   "metadata": {},
   "source": [
    "### a) Logistic Regression"
   ]
  },
  {
   "cell_type": "code",
   "execution_count": 96,
   "id": "9fdbe1e7",
   "metadata": {},
   "outputs": [],
   "source": [
    "from sklearn.linear_model import LogisticRegression"
   ]
  },
  {
   "cell_type": "code",
   "execution_count": 97,
   "id": "e5eaba65",
   "metadata": {},
   "outputs": [
    {
     "data": {
      "text/plain": [
       "LogisticRegression(max_iter=10000, solver='liblinear')"
      ]
     },
     "execution_count": 97,
     "metadata": {},
     "output_type": "execute_result"
    }
   ],
   "source": [
    "m1 = LogisticRegression(max_iter=10000,solver='liblinear')\n",
    "m1.fit(x_train,y_train)"
   ]
  },
  {
   "cell_type": "code",
   "execution_count": 98,
   "id": "a2de58ad",
   "metadata": {},
   "outputs": [
    {
     "name": "stdout",
     "output_type": "stream",
     "text": [
      "Training score 0.794\n",
      "Testing score 0.786\n"
     ]
    }
   ],
   "source": [
    "mscore(m1)"
   ]
  },
  {
   "cell_type": "code",
   "execution_count": 99,
   "id": "d5bfe61a",
   "metadata": {},
   "outputs": [
    {
     "name": "stdout",
     "output_type": "stream",
     "text": [
      "confusion matrix:\n",
      "[[123   7   2   0]\n",
      " [ 13  72  33   0]\n",
      " [  0  24  72  24]\n",
      " [  0   0   4 126]]\n",
      "\n",
      "\n",
      "\n",
      "classification report:\n",
      "              precision    recall  f1-score   support\n",
      "\n",
      "           0       0.90      0.93      0.92       132\n",
      "           1       0.70      0.61      0.65       118\n",
      "           2       0.65      0.60      0.62       120\n",
      "           3       0.84      0.97      0.90       130\n",
      "\n",
      "    accuracy                           0.79       500\n",
      "   macro avg       0.77      0.78      0.77       500\n",
      "weighted avg       0.78      0.79      0.78       500\n",
      "\n"
     ]
    }
   ],
   "source": [
    "ypred_m1=m1.predict(x_test)\n",
    "eval_model(y_test,ypred_m1)"
   ]
  },
  {
   "cell_type": "markdown",
   "id": "67d0b3e0",
   "metadata": {},
   "source": [
    "### b) KNN Classification:"
   ]
  },
  {
   "cell_type": "code",
   "execution_count": 105,
   "id": "7a6b6edf",
   "metadata": {},
   "outputs": [],
   "source": [
    "from sklearn.neighbors import KNeighborsClassifier"
   ]
  },
  {
   "cell_type": "code",
   "execution_count": 106,
   "id": "650a8fc2",
   "metadata": {},
   "outputs": [
    {
     "data": {
      "text/plain": [
       "KNeighborsClassifier(n_neighbors=23)"
      ]
     },
     "execution_count": 106,
     "metadata": {},
     "output_type": "execute_result"
    }
   ],
   "source": [
    "m2 = KNeighborsClassifier(n_neighbors=23)\n",
    "m2.fit(x_train,y_train)"
   ]
  },
  {
   "cell_type": "code",
   "execution_count": 107,
   "id": "017dc5a1",
   "metadata": {},
   "outputs": [
    {
     "name": "stdout",
     "output_type": "stream",
     "text": [
      "Training score 0.942\n",
      "Testing score 0.94\n"
     ]
    }
   ],
   "source": [
    "mscore(m2)"
   ]
  },
  {
   "cell_type": "code",
   "execution_count": 108,
   "id": "afce723d",
   "metadata": {},
   "outputs": [
    {
     "name": "stdout",
     "output_type": "stream",
     "text": [
      "confusion matrix:\n",
      "[[128   4   0   0]\n",
      " [  5 112   1   0]\n",
      " [  0   9 107   4]\n",
      " [  0   0   7 123]]\n",
      "\n",
      "\n",
      "\n",
      "classification report:\n",
      "              precision    recall  f1-score   support\n",
      "\n",
      "           0       0.96      0.97      0.97       132\n",
      "           1       0.90      0.95      0.92       118\n",
      "           2       0.93      0.89      0.91       120\n",
      "           3       0.97      0.95      0.96       130\n",
      "\n",
      "    accuracy                           0.94       500\n",
      "   macro avg       0.94      0.94      0.94       500\n",
      "weighted avg       0.94      0.94      0.94       500\n",
      "\n"
     ]
    }
   ],
   "source": [
    "ypred_m2 = m2.predict(x_test)\n",
    "eval_model(y_test,ypred_m2)"
   ]
  },
  {
   "cell_type": "markdown",
   "id": "5c14b589",
   "metadata": {},
   "source": [
    "### c) SVM Classifier with linear and rbf kernel"
   ]
  },
  {
   "cell_type": "code",
   "execution_count": 116,
   "id": "56072223",
   "metadata": {},
   "outputs": [],
   "source": [
    "from sklearn.svm import SVC"
   ]
  },
  {
   "cell_type": "code",
   "execution_count": 120,
   "id": "10db6efb",
   "metadata": {},
   "outputs": [
    {
     "data": {
      "text/plain": [
       "SVC(C=1, kernel='linear')"
      ]
     },
     "execution_count": 120,
     "metadata": {},
     "output_type": "execute_result"
    }
   ],
   "source": [
    "m3 = SVC(kernel='linear',C=1)\n",
    "m3.fit(x_train,y_train)"
   ]
  },
  {
   "cell_type": "code",
   "execution_count": 121,
   "id": "1004f7c3",
   "metadata": {},
   "outputs": [
    {
     "name": "stdout",
     "output_type": "stream",
     "text": [
      "Training score 0.992\n",
      "Testing score 0.97\n"
     ]
    }
   ],
   "source": [
    "mscore(m3)"
   ]
  },
  {
   "cell_type": "code",
   "execution_count": 122,
   "id": "ffe363fe",
   "metadata": {},
   "outputs": [
    {
     "name": "stdout",
     "output_type": "stream",
     "text": [
      "confusion matrix:\n",
      "[[127   5   0   0]\n",
      " [  1 117   0   0]\n",
      " [  0   3 112   5]\n",
      " [  0   0   1 129]]\n",
      "\n",
      "\n",
      "\n",
      "classification report:\n",
      "              precision    recall  f1-score   support\n",
      "\n",
      "           0       0.99      0.96      0.98       132\n",
      "           1       0.94      0.99      0.96       118\n",
      "           2       0.99      0.93      0.96       120\n",
      "           3       0.96      0.99      0.98       130\n",
      "\n",
      "    accuracy                           0.97       500\n",
      "   macro avg       0.97      0.97      0.97       500\n",
      "weighted avg       0.97      0.97      0.97       500\n",
      "\n"
     ]
    }
   ],
   "source": [
    "ypred_m3=m3.predict(x_test)\n",
    "eval_model(y_test,ypred_m3)"
   ]
  },
  {
   "cell_type": "markdown",
   "id": "a8dd60e0",
   "metadata": {},
   "source": [
    "### d) Decision Tree Classifier:"
   ]
  },
  {
   "cell_type": "code",
   "execution_count": 100,
   "id": "e1ddceee",
   "metadata": {},
   "outputs": [],
   "source": [
    "from sklearn.tree import DecisionTreeClassifier"
   ]
  },
  {
   "cell_type": "code",
   "execution_count": 101,
   "id": "ce0729d8",
   "metadata": {},
   "outputs": [
    {
     "data": {
      "text/plain": [
       "DecisionTreeClassifier(criterion='entropy', max_depth=5)"
      ]
     },
     "execution_count": 101,
     "metadata": {},
     "output_type": "execute_result"
    }
   ],
   "source": [
    "m4=DecisionTreeClassifier(criterion='entropy',max_depth=5)\n",
    "m4.fit(x_train,y_train)"
   ]
  },
  {
   "cell_type": "code",
   "execution_count": 102,
   "id": "2506bf2c",
   "metadata": {},
   "outputs": [
    {
     "name": "stdout",
     "output_type": "stream",
     "text": [
      "Training score 0.8793333333333333\n",
      "Testing score 0.826\n"
     ]
    }
   ],
   "source": [
    "mscore(m4)"
   ]
  },
  {
   "cell_type": "code",
   "execution_count": 103,
   "id": "ed91898f",
   "metadata": {},
   "outputs": [
    {
     "name": "stdout",
     "output_type": "stream",
     "text": [
      "confusion matrix:\n",
      "[[121  11   0   0]\n",
      " [ 11  97  10   0]\n",
      " [  0  19  82  19]\n",
      " [  0   0  17 113]]\n",
      "\n",
      "\n",
      "\n",
      "classification report:\n",
      "              precision    recall  f1-score   support\n",
      "\n",
      "           0       0.92      0.92      0.92       132\n",
      "           1       0.76      0.82      0.79       118\n",
      "           2       0.75      0.68      0.72       120\n",
      "           3       0.86      0.87      0.86       130\n",
      "\n",
      "    accuracy                           0.83       500\n",
      "   macro avg       0.82      0.82      0.82       500\n",
      "weighted avg       0.83      0.83      0.83       500\n",
      "\n"
     ]
    }
   ],
   "source": [
    "ypred_m4=m4.predict(x_test)\n",
    "eval_model(y_test,ypred_m4)"
   ]
  },
  {
   "cell_type": "markdown",
   "id": "c2f7ac0a",
   "metadata": {},
   "source": [
    "### e) Random Forest Classifier"
   ]
  },
  {
   "cell_type": "code",
   "execution_count": 109,
   "id": "8df5e191",
   "metadata": {},
   "outputs": [],
   "source": [
    "from sklearn.ensemble import RandomForestClassifier"
   ]
  },
  {
   "cell_type": "code",
   "execution_count": 112,
   "id": "997fd916",
   "metadata": {},
   "outputs": [
    {
     "data": {
      "text/plain": [
       "RandomForestClassifier(criterion='entropy', max_depth=7, n_estimators=80)"
      ]
     },
     "execution_count": 112,
     "metadata": {},
     "output_type": "execute_result"
    }
   ],
   "source": [
    "m5 = RandomForestClassifier(n_estimators=80,criterion='entropy',max_depth=7)\n",
    "m5.fit(x_train,y_train)"
   ]
  },
  {
   "cell_type": "code",
   "execution_count": 113,
   "id": "3ba97460",
   "metadata": {},
   "outputs": [
    {
     "name": "stdout",
     "output_type": "stream",
     "text": [
      "Training score 0.9753333333333334\n",
      "Testing score 0.86\n"
     ]
    }
   ],
   "source": [
    "mscore(m5)"
   ]
  },
  {
   "cell_type": "code",
   "execution_count": 115,
   "id": "b3775fe1",
   "metadata": {},
   "outputs": [
    {
     "name": "stdout",
     "output_type": "stream",
     "text": [
      "confusion matrix:\n",
      "[[124   8   0   0]\n",
      " [ 10  96  12   0]\n",
      " [  0  17  88  15]\n",
      " [  0   0   8 122]]\n",
      "\n",
      "\n",
      "\n",
      "classification report:\n",
      "              precision    recall  f1-score   support\n",
      "\n",
      "           0       0.93      0.94      0.93       132\n",
      "           1       0.79      0.81      0.80       118\n",
      "           2       0.81      0.73      0.77       120\n",
      "           3       0.89      0.94      0.91       130\n",
      "\n",
      "    accuracy                           0.86       500\n",
      "   macro avg       0.86      0.86      0.86       500\n",
      "weighted avg       0.86      0.86      0.86       500\n",
      "\n"
     ]
    }
   ],
   "source": [
    "ypred_m5 = m5.predict(x_test)\n",
    "eval_model(y_test,ypred_m5)"
   ]
  },
  {
   "cell_type": "markdown",
   "id": "8f6860f9",
   "metadata": {},
   "source": [
    "### Data visualisatiion by seaborn graphs"
   ]
  },
  {
   "cell_type": "markdown",
   "id": "0fb44568",
   "metadata": {},
   "source": [
    "### a) logistic regression model confusion matrix:"
   ]
  },
  {
   "cell_type": "code",
   "execution_count": 130,
   "id": "7a22db51",
   "metadata": {},
   "outputs": [
    {
     "data": {
      "text/plain": [
       "Text(50.722222222222214, 0.5, 'Actual')"
      ]
     },
     "execution_count": 130,
     "metadata": {},
     "output_type": "execute_result"
    },
    {
     "data": {
      "image/png": "[encoded data removed]",
      "text/plain": [
       "<Figure size 640x480 with 2 Axes>"
      ]
     },
     "metadata": {},
     "output_type": "display_data"
    }
   ],
   "source": [
    "cm=confusion_matrix(y_test,ypred_m1)\n",
    "sns.heatmap(cm, annot=True, cmap='Reds', fmt='d',annot_kws={\"size\": 20,'weight':'bold','color':'black'})\n",
    "plt.title(\"Confusion Matrix\", fontsize=20)\n",
    "plt.xlabel(\"Predicted\", fontsize=20)\n",
    "plt.ylabel(\"Actual\", fontsize=20)\n"
   ]
  },
  {
   "cell_type": "markdown",
   "id": "b135097d",
   "metadata": {},
   "source": [
    "### b) KNN classification confusion matrix:"
   ]
  },
  {
   "cell_type": "code",
   "execution_count": 147,
   "id": "f68912d2",
   "metadata": {},
   "outputs": [
    {
     "data": {
      "text/plain": [
       "Text(50.722222222222214, 0.5, 'Actual')"
      ]
     },
     "execution_count": 147,
     "metadata": {},
     "output_type": "execute_result"
    },
    {
     "data": {
      "image/png": "[encoded data removed]",
      "text/plain": [
       "<Figure size 640x480 with 2 Axes>"
      ]
     },
     "metadata": {},
     "output_type": "display_data"
    }
   ],
   "source": [
    "cm=confusion_matrix(y_test,ypred_m2)\n",
    "sns.heatmap(cm, annot=True, cmap='Greens', fmt='d',annot_kws={\"size\": 20,'weight':'bold','color':'black'})\n",
    "plt.title(\"Confusion Matrix\", fontsize=20)\n",
    "plt.xlabel(\"Predicted\", fontsize=20)\n",
    "plt.ylabel(\"Actual\", fontsize=20)"
   ]
  },
  {
   "cell_type": "markdown",
   "id": "6a16ff6b",
   "metadata": {},
   "source": [
    "### c) SVM classification confusion matrix:"
   ]
  },
  {
   "cell_type": "code",
   "execution_count": 131,
   "id": "e3b17d2e",
   "metadata": {},
   "outputs": [
    {
     "data": {
      "text/plain": [
       "Text(50.722222222222214, 0.5, 'Actual')"
      ]
     },
     "execution_count": 131,
     "metadata": {},
     "output_type": "execute_result"
    },
    {
     "data": {
      "image/png": "[encoded data removed]",
      "text/plain": [
       "<Figure size 640x480 with 2 Axes>"
      ]
     },
     "metadata": {},
     "output_type": "display_data"
    }
   ],
   "source": [
    "cm=confusion_matrix(y_test,ypred_m3)\n",
    "sns.heatmap(cm, annot=True, cmap='Blues', fmt='d',annot_kws={\"size\": 20,'weight':'bold','color':'black'})\n",
    "plt.title(\"Confusion Matrix\", fontsize=20)\n",
    "plt.xlabel(\"Predicted\", fontsize=20)\n",
    "plt.ylabel(\"Actual\", fontsize=20)"
   ]
  },
  {
   "cell_type": "markdown",
   "id": "9462ad8e",
   "metadata": {},
   "source": [
    "### decision tree classifier confusion matrix:"
   ]
  },
  {
   "cell_type": "code",
   "execution_count": 136,
   "id": "ad59a9c2",
   "metadata": {},
   "outputs": [
    {
     "data": {
      "text/plain": [
       "Text(50.722222222222214, 0.5, 'Actual')"
      ]
     },
     "execution_count": 136,
     "metadata": {},
     "output_type": "execute_result"
    },
    {
     "data": {
      "image/png": "[encoded data removed]",
      "text/plain": [
       "<Figure size 640x480 with 2 Axes>"
      ]
     },
     "metadata": {},
     "output_type": "display_data"
    }
   ],
   "source": [
    "cm=confusion_matrix(y_test,ypred_m4)\n",
    "sns.heatmap(cm, annot=True, cmap='Greens', fmt='d',annot_kws={\"size\": 20,'weight':'bold','color':'black'})\n",
    "plt.title(\"Confusion Matrix\", fontsize=20)\n",
    "plt.xlabel(\"Predicted\", fontsize=20)\n",
    "plt.ylabel(\"Actual\", fontsize=20)"
   ]
  },
  {
   "cell_type": "markdown",
   "id": "e4df0b3c",
   "metadata": {},
   "source": [
    "### Random Forest Classifier connfusion matrix:"
   ]
  },
  {
   "cell_type": "code",
   "execution_count": 149,
   "id": "db270c9f",
   "metadata": {},
   "outputs": [
    {
     "data": {
      "text/plain": [
       "Text(50.722222222222214, 0.5, 'Actual')"
      ]
     },
     "execution_count": 149,
     "metadata": {},
     "output_type": "execute_result"
    },
    {
     "data": {
      "image/png": "[encoded data removed]",
      "text/plain": [
       "<Figure size 640x480 with 2 Axes>"
      ]
     },
     "metadata": {},
     "output_type": "display_data"
    }
   ],
   "source": [
    "cm=confusion_matrix(y_test,ypred_m5)\n",
    "sns.heatmap(cm, annot=True, cmap='Reds', fmt='d',annot_kws={\"size\": 20,'weight':'bold','color':'black'})\n",
    "plt.title(\"Confusion Matrix\", fontsize=20)\n",
    "plt.xlabel(\"Predicted\", fontsize=20)\n",
    "plt.ylabel(\"Actual\", fontsize=20)"
   ]
  },
  {
   "cell_type": "markdown",
   "id": "f24a29a5",
   "metadata": {},
   "source": [
    "## The Score of predicting the price range for the test data:"
   ]
  },
  {
   "cell_type": "code",
   "execution_count": 141,
   "id": "bb041b06",
   "metadata": {},
   "outputs": [
    {
     "name": "stdout",
     "output_type": "stream",
     "text": [
      "logistic regression accuracy score:\n",
      "Training score 0.794\n",
      "Testing score 0.786\n",
      "None\n",
      "\n",
      "\n",
      "\n",
      "KNN predict score:\n",
      "Training score 0.942\n",
      "Testing score 0.94\n",
      "None\n",
      "\n",
      "\n",
      "\n",
      "Support vector machine (svm) score: \n",
      "Training score 0.992\n",
      "Testing score 0.97\n",
      "None\n",
      "\n",
      "\n",
      "\n",
      "Decision Tree classifier score: \n",
      "Training score 0.8793333333333333\n",
      "Testing score 0.826\n",
      "None\n",
      "\n",
      "\n",
      "\n",
      "Random Forest score:\n",
      "Training score 0.9753333333333334\n",
      "Testing score 0.86\n",
      "None\n"
     ]
    }
   ],
   "source": [
    "print(\"logistic regression accuracy score:\")\n",
    "print(mscore(m1))\n",
    "print(\"\\n\\n\")\n",
    "print(\"KNN predict score:\")\n",
    "print(mscore(m2))\n",
    "print(\"\\n\\n\")\n",
    "print(\"Support vector machine (svm) score: \")\n",
    "print(mscore(m3))\n",
    "print(\"\\n\\n\")\n",
    "print(\"Decision Tree classifier score: \")\n",
    "print(mscore(m4))\n",
    "print(\"\\n\\n\")\n",
    "print(\"Random Forest score:\")\n",
    "print(mscore(m5))"
   ]
  },
  {
   "cell_type": "markdown",
   "id": "9d519a10",
   "metadata": {},
   "source": [
    "# Conclusion "
   ]
  },
  {
   "cell_type": "markdown",
   "id": "1c23b7fe",
   "metadata": {},
   "source": [
    "From the above results we can tell that the SVM shows the best results among all the other classifers\n",
    "The order of their test scores goes like this:<br>\n",
    "1.Support Vector Machine (SVM)<br>\n",
    "2.KNN Classifier<br>\n",
    "3.Random Forest<br>\n",
    "4.Desision Tree<br>\n",
    "5.Logistic Regression<br>"
   ]
  }
 ],
 "metadata": {
  "kernelspec": {
   "display_name": "Python 3 (ipykernel)",
   "language": "python",
   "name": "python3"
  },
  "language_info": {
   "codemirror_mode": {
    "name": "ipython",
    "version": 3
   },
   "file_extension": ".py",
   "mimetype": "text/x-python",
   "name": "python",
   "nbconvert_exporter": "python",
   "pygments_lexer": "ipython3",
   "version": "3.9.13"
  }
 },
 "nbformat": 4,
 "nbformat_minor": 5
}
